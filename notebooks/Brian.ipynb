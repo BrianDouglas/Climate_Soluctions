{
 "cells": [
  {
   "cell_type": "markdown",
   "metadata": {},
   "source": [
    "# Brian's Notebook"
   ]
  },
  {
   "cell_type": "code",
   "execution_count": 10,
   "metadata": {},
   "outputs": [],
   "source": [
    "import pandas as pd\n",
    "import csv\n",
    "import matplotlib.pyplot as plt\n",
    "\n"
   ]
  },
  {
   "cell_type": "code",
   "execution_count": 3,
   "metadata": {},
   "outputs": [
    {
     "data": {
      "text/html": [
       "<div>\n",
       "<style scoped>\n",
       "    .dataframe tbody tr th:only-of-type {\n",
       "        vertical-align: middle;\n",
       "    }\n",
       "\n",
       "    .dataframe tbody tr th {\n",
       "        vertical-align: top;\n",
       "    }\n",
       "\n",
       "    .dataframe thead th {\n",
       "        text-align: right;\n",
       "    }\n",
       "</style>\n",
       "<table border=\"1\" class=\"dataframe\">\n",
       "  <thead>\n",
       "    <tr style=\"text-align: right;\">\n",
       "      <th></th>\n",
       "      <th>MSN</th>\n",
       "      <th>YYYYMM</th>\n",
       "      <th>Value</th>\n",
       "      <th>Column_Order</th>\n",
       "      <th>Description</th>\n",
       "      <th>Unit</th>\n",
       "    </tr>\n",
       "  </thead>\n",
       "  <tbody>\n",
       "    <tr>\n",
       "      <th>0</th>\n",
       "      <td>FFPRBUS</td>\n",
       "      <td>194913</td>\n",
       "      <td>28.740479</td>\n",
       "      <td>1</td>\n",
       "      <td>Total Fossil Fuels Production</td>\n",
       "      <td>Quadrillion Btu</td>\n",
       "    </tr>\n",
       "    <tr>\n",
       "      <th>1</th>\n",
       "      <td>FFPRBUS</td>\n",
       "      <td>195013</td>\n",
       "      <td>32.553205</td>\n",
       "      <td>1</td>\n",
       "      <td>Total Fossil Fuels Production</td>\n",
       "      <td>Quadrillion Btu</td>\n",
       "    </tr>\n",
       "    <tr>\n",
       "      <th>2</th>\n",
       "      <td>FFPRBUS</td>\n",
       "      <td>195113</td>\n",
       "      <td>35.782118</td>\n",
       "      <td>1</td>\n",
       "      <td>Total Fossil Fuels Production</td>\n",
       "      <td>Quadrillion Btu</td>\n",
       "    </tr>\n",
       "    <tr>\n",
       "      <th>3</th>\n",
       "      <td>FFPRBUS</td>\n",
       "      <td>195213</td>\n",
       "      <td>34.964662</td>\n",
       "      <td>1</td>\n",
       "      <td>Total Fossil Fuels Production</td>\n",
       "      <td>Quadrillion Btu</td>\n",
       "    </tr>\n",
       "    <tr>\n",
       "      <th>4</th>\n",
       "      <td>FFPRBUS</td>\n",
       "      <td>195313</td>\n",
       "      <td>35.338361</td>\n",
       "      <td>1</td>\n",
       "      <td>Total Fossil Fuels Production</td>\n",
       "      <td>Quadrillion Btu</td>\n",
       "    </tr>\n",
       "    <tr>\n",
       "      <th>...</th>\n",
       "      <td>...</td>\n",
       "      <td>...</td>\n",
       "      <td>...</td>\n",
       "      <td>...</td>\n",
       "      <td>...</td>\n",
       "      <td>...</td>\n",
       "    </tr>\n",
       "    <tr>\n",
       "      <th>7699</th>\n",
       "      <td>TETCBUS</td>\n",
       "      <td>202003</td>\n",
       "      <td>7.843358</td>\n",
       "      <td>12</td>\n",
       "      <td>Total Primary Energy Consumption</td>\n",
       "      <td>Quadrillion Btu</td>\n",
       "    </tr>\n",
       "    <tr>\n",
       "      <th>7700</th>\n",
       "      <td>TETCBUS</td>\n",
       "      <td>202004</td>\n",
       "      <td>6.516843</td>\n",
       "      <td>12</td>\n",
       "      <td>Total Primary Energy Consumption</td>\n",
       "      <td>Quadrillion Btu</td>\n",
       "    </tr>\n",
       "    <tr>\n",
       "      <th>7701</th>\n",
       "      <td>TETCBUS</td>\n",
       "      <td>202005</td>\n",
       "      <td>6.859155</td>\n",
       "      <td>12</td>\n",
       "      <td>Total Primary Energy Consumption</td>\n",
       "      <td>Quadrillion Btu</td>\n",
       "    </tr>\n",
       "    <tr>\n",
       "      <th>7702</th>\n",
       "      <td>TETCBUS</td>\n",
       "      <td>202006</td>\n",
       "      <td>7.293597</td>\n",
       "      <td>12</td>\n",
       "      <td>Total Primary Energy Consumption</td>\n",
       "      <td>Quadrillion Btu</td>\n",
       "    </tr>\n",
       "    <tr>\n",
       "      <th>7703</th>\n",
       "      <td>TETCBUS</td>\n",
       "      <td>202007</td>\n",
       "      <td>8.105214</td>\n",
       "      <td>12</td>\n",
       "      <td>Total Primary Energy Consumption</td>\n",
       "      <td>Quadrillion Btu</td>\n",
       "    </tr>\n",
       "  </tbody>\n",
       "</table>\n",
       "<p>7704 rows × 6 columns</p>\n",
       "</div>"
      ],
      "text/plain": [
       "          MSN  YYYYMM      Value  Column_Order  \\\n",
       "0     FFPRBUS  194913  28.740479             1   \n",
       "1     FFPRBUS  195013  32.553205             1   \n",
       "2     FFPRBUS  195113  35.782118             1   \n",
       "3     FFPRBUS  195213  34.964662             1   \n",
       "4     FFPRBUS  195313  35.338361             1   \n",
       "...       ...     ...        ...           ...   \n",
       "7699  TETCBUS  202003   7.843358            12   \n",
       "7700  TETCBUS  202004   6.516843            12   \n",
       "7701  TETCBUS  202005   6.859155            12   \n",
       "7702  TETCBUS  202006   7.293597            12   \n",
       "7703  TETCBUS  202007   8.105214            12   \n",
       "\n",
       "                           Description             Unit  \n",
       "0        Total Fossil Fuels Production  Quadrillion Btu  \n",
       "1        Total Fossil Fuels Production  Quadrillion Btu  \n",
       "2        Total Fossil Fuels Production  Quadrillion Btu  \n",
       "3        Total Fossil Fuels Production  Quadrillion Btu  \n",
       "4        Total Fossil Fuels Production  Quadrillion Btu  \n",
       "...                                ...              ...  \n",
       "7699  Total Primary Energy Consumption  Quadrillion Btu  \n",
       "7700  Total Primary Energy Consumption  Quadrillion Btu  \n",
       "7701  Total Primary Energy Consumption  Quadrillion Btu  \n",
       "7702  Total Primary Energy Consumption  Quadrillion Btu  \n",
       "7703  Total Primary Energy Consumption  Quadrillion Btu  \n",
       "\n",
       "[7704 rows x 6 columns]"
      ]
     },
     "execution_count": 3,
     "metadata": {},
     "output_type": "execute_result"
    }
   ],
   "source": [
    "path = \"../resources/raw/EIA_primary_energy_by_source.csv\"\n",
    "df_csv = pd.read_csv(path)\n",
    "df_csv"
   ]
  },
  {
   "cell_type": "code",
   "execution_count": 11,
   "metadata": {},
   "outputs": [
    {
     "data": {
      "text/html": [
       "<div>\n",
       "<style scoped>\n",
       "    .dataframe tbody tr th:only-of-type {\n",
       "        vertical-align: middle;\n",
       "    }\n",
       "\n",
       "    .dataframe tbody tr th {\n",
       "        vertical-align: top;\n",
       "    }\n",
       "\n",
       "    .dataframe thead th {\n",
       "        text-align: right;\n",
       "    }\n",
       "</style>\n",
       "<table border=\"1\" class=\"dataframe\">\n",
       "  <thead>\n",
       "    <tr style=\"text-align: right;\">\n",
       "      <th></th>\n",
       "      <th>Month</th>\n",
       "      <th>Coal Production</th>\n",
       "      <th>Natural Gas (Dry) Production</th>\n",
       "      <th>Crude Oil Production</th>\n",
       "      <th>Natural Gas Plant Liquids Production</th>\n",
       "      <th>Total Fossil Fuels Production</th>\n",
       "      <th>Nuclear Electric Power Production</th>\n",
       "      <th>Hydroelectric Power Production</th>\n",
       "      <th>Geothermal Energy Production</th>\n",
       "      <th>Solar Energy Production</th>\n",
       "      <th>Wind Energy Production</th>\n",
       "      <th>Biomass Energy Production</th>\n",
       "      <th>Total Renewable Energy Production</th>\n",
       "      <th>Total Primary Energy Production</th>\n",
       "    </tr>\n",
       "  </thead>\n",
       "  <tbody>\n",
       "    <tr>\n",
       "      <th>0</th>\n",
       "      <td>1973-01-01</td>\n",
       "      <td>1.166486</td>\n",
       "      <td>1.908249</td>\n",
       "      <td>1.649833</td>\n",
       "      <td>0.208064</td>\n",
       "      <td>4.932632</td>\n",
       "      <td>0.068103</td>\n",
       "      <td>0.272703</td>\n",
       "      <td>0.001491</td>\n",
       "      <td>Not Available</td>\n",
       "      <td>Not Available</td>\n",
       "      <td>0.129787</td>\n",
       "      <td>0.403981</td>\n",
       "      <td>5.404715</td>\n",
       "    </tr>\n",
       "    <tr>\n",
       "      <th>1</th>\n",
       "      <td>1973-02-01</td>\n",
       "      <td>1.086072</td>\n",
       "      <td>1.922543</td>\n",
       "      <td>1.525783</td>\n",
       "      <td>0.195184</td>\n",
       "      <td>4.729582</td>\n",
       "      <td>0.064634</td>\n",
       "      <td>0.242199</td>\n",
       "      <td>0.001363</td>\n",
       "      <td>Not Available</td>\n",
       "      <td>Not Available</td>\n",
       "      <td>0.117338</td>\n",
       "      <td>0.360900</td>\n",
       "      <td>5.155115</td>\n",
       "    </tr>\n",
       "    <tr>\n",
       "      <th>2</th>\n",
       "      <td>1973-03-01</td>\n",
       "      <td>1.196571</td>\n",
       "      <td>1.868430</td>\n",
       "      <td>1.667094</td>\n",
       "      <td>0.214807</td>\n",
       "      <td>4.946902</td>\n",
       "      <td>0.072494</td>\n",
       "      <td>0.268810</td>\n",
       "      <td>0.001412</td>\n",
       "      <td>Not Available</td>\n",
       "      <td>Not Available</td>\n",
       "      <td>0.129938</td>\n",
       "      <td>0.400161</td>\n",
       "      <td>5.419556</td>\n",
       "    </tr>\n",
       "    <tr>\n",
       "      <th>3</th>\n",
       "      <td>1973-04-01</td>\n",
       "      <td>1.112230</td>\n",
       "      <td>1.777561</td>\n",
       "      <td>1.616791</td>\n",
       "      <td>0.209690</td>\n",
       "      <td>4.716271</td>\n",
       "      <td>0.064070</td>\n",
       "      <td>0.253185</td>\n",
       "      <td>0.001649</td>\n",
       "      <td>Not Available</td>\n",
       "      <td>Not Available</td>\n",
       "      <td>0.125636</td>\n",
       "      <td>0.380470</td>\n",
       "      <td>5.160812</td>\n",
       "    </tr>\n",
       "    <tr>\n",
       "      <th>4</th>\n",
       "      <td>1973-05-01</td>\n",
       "      <td>1.216978</td>\n",
       "      <td>1.859241</td>\n",
       "      <td>1.665377</td>\n",
       "      <td>0.215398</td>\n",
       "      <td>4.956995</td>\n",
       "      <td>0.062111</td>\n",
       "      <td>0.260770</td>\n",
       "      <td>0.001537</td>\n",
       "      <td>Not Available</td>\n",
       "      <td>Not Available</td>\n",
       "      <td>0.129834</td>\n",
       "      <td>0.392141</td>\n",
       "      <td>5.411246</td>\n",
       "    </tr>\n",
       "  </tbody>\n",
       "</table>\n",
       "</div>"
      ],
      "text/plain": [
       "       Month  Coal Production   Natural Gas (Dry) Production   \\\n",
       "0 1973-01-01          1.166486                       1.908249   \n",
       "1 1973-02-01          1.086072                       1.922543   \n",
       "2 1973-03-01          1.196571                       1.868430   \n",
       "3 1973-04-01          1.112230                       1.777561   \n",
       "4 1973-05-01          1.216978                       1.859241   \n",
       "\n",
       "   Crude Oil Production  Natural Gas Plant Liquids Production  \\\n",
       "0              1.649833                              0.208064   \n",
       "1              1.525783                              0.195184   \n",
       "2              1.667094                              0.214807   \n",
       "3              1.616791                              0.209690   \n",
       "4              1.665377                              0.215398   \n",
       "\n",
       "   Total Fossil Fuels Production  Nuclear Electric Power Production  \\\n",
       "0                       4.932632                           0.068103   \n",
       "1                       4.729582                           0.064634   \n",
       "2                       4.946902                           0.072494   \n",
       "3                       4.716271                           0.064070   \n",
       "4                       4.956995                           0.062111   \n",
       "\n",
       "   Hydroelectric Power Production  Geothermal Energy Production  \\\n",
       "0                        0.272703                      0.001491   \n",
       "1                        0.242199                      0.001363   \n",
       "2                        0.268810                      0.001412   \n",
       "3                        0.253185                      0.001649   \n",
       "4                        0.260770                      0.001537   \n",
       "\n",
       "  Solar Energy Production Wind Energy Production  Biomass Energy Production  \\\n",
       "0           Not Available          Not Available                   0.129787   \n",
       "1           Not Available          Not Available                   0.117338   \n",
       "2           Not Available          Not Available                   0.129938   \n",
       "3           Not Available          Not Available                   0.125636   \n",
       "4           Not Available          Not Available                   0.129834   \n",
       "\n",
       "   Total Renewable Energy Production  Total Primary Energy Production  \n",
       "0                           0.403981                         5.404715  \n",
       "1                           0.360900                         5.155115  \n",
       "2                           0.400161                         5.419556  \n",
       "3                           0.380470                         5.160812  \n",
       "4                           0.392141                         5.411246  "
      ]
     },
     "execution_count": 11,
     "metadata": {},
     "output_type": "execute_result"
    }
   ],
   "source": [
    "xls_path = \"../resources/raw/Primary_Energy_Production_by_Source.xlsx\"\n",
    "df_xls = pd.read_excel(xls_path)\n",
    "#units in Quadrillion Btu\n",
    "df_xls.head()"
   ]
  },
  {
   "cell_type": "code",
   "execution_count": 12,
   "metadata": {},
   "outputs": [
    {
     "data": {
      "text/plain": [
       "[<matplotlib.lines.Line2D at 0x1ed533d5340>]"
      ]
     },
     "execution_count": 12,
     "metadata": {},
     "output_type": "execute_result"
    },
    {
     "data": {
      "image/png": "[encoded data removed]",
      "text/plain": [
       "<Figure size 432x288 with 1 Axes>"
      ]
     },
     "metadata": {
      "needs_background": "light"
     },
     "output_type": "display_data"
    }
   ],
   "source": [
    "plt.plot(df_xls[\"Month\"], df_xls[\"Total Fossil Fuels Production\"])"
   ]
  },
  {
   "cell_type": "code",
   "execution_count": 13,
   "metadata": {
    "scrolled": true
   },
   "outputs": [
    {
     "data": {
      "text/plain": [
       "[<matplotlib.lines.Line2D at 0x1ed5345b2e0>]"
      ]
     },
     "execution_count": 13,
     "metadata": {},
     "output_type": "execute_result"
    },
    {
     "data": {
      "image/png": "[encoded data removed]",
      "text/plain": [
       "<Figure size 432x288 with 1 Axes>"
      ]
     },
     "metadata": {
      "needs_background": "light"
     },
     "output_type": "display_data"
    }
   ],
   "source": [
    "plt.plot(df_xls[\"Month\"], df_xls[\"Total Renewable Energy Production\"])"
   ]
  },
  {
   "cell_type": "code",
   "execution_count": 15,
   "metadata": {},
   "outputs": [
    {
     "data": {
      "text/plain": [
       "[<matplotlib.lines.Line2D at 0x1ed534ae940>]"
      ]
     },
     "execution_count": 15,
     "metadata": {},
     "output_type": "execute_result"
    },
    {
     "data": {
      "image/png": "[encoded data removed]",
      "text/plain": [
       "<Figure size 432x288 with 1 Axes>"
      ]
     },
     "metadata": {
      "needs_background": "light"
     },
     "output_type": "display_data"
    }
   ],
   "source": [
    "plt.plot(df_xls[\"Month\"], df_xls[\"Coal Production \"])"
   ]
  }
 ],
 "metadata": {
  "kernelspec": {
   "display_name": "Python [conda env:databoot] *",
   "language": "python",
   "name": "conda-env-databoot-py"
  },
  "language_info": {
   "codemirror_mode": {
    "name": "ipython",
    "version": 3
   },
   "file_extension": ".py",
   "mimetype": "text/x-python",
   "name": "python",
   "nbconvert_exporter": "python",
   "pygments_lexer": "ipython3",
   "version": "3.8.3"
  }
 },
 "nbformat": 4,
 "nbformat_minor": 4
}
