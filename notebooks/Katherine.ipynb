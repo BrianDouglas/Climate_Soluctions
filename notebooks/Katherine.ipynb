{
 "cells": [
  {
   "cell_type": "markdown",
   "metadata": {},
   "source": [
    "# Katherine's Notebook"
   ]
  },
  {
   "cell_type": "code",
   "execution_count": 84,
   "metadata": {},
   "outputs": [],
   "source": [
    "import pandas as pd                     \n",
    "import matplotlib.pyplot as plt      \n",
    "import numpy as np        \n",
    "import pandas\n",
    "import matplotlib as plt\n",
    "import matplotlib.pyplot as plt\n",
    "from os import listdir\n",
    "from os.path import isfile, join\n",
    "import csv\n",
    "\n",
    "mypath=\"../resources/raw/Aqi_cbsa\"\n",
    "onlyfiles = [f for f in listdir(mypath) if isfile(join(mypath, f))]"
   ]
  },
  {
   "cell_type": "code",
   "execution_count": 85,
   "metadata": {},
   "outputs": [
    {
     "name": "stdout",
     "output_type": "stream",
     "text": [
      "41\n"
     ]
    }
   ],
   "source": [
    "print(len(onlyfiles))\n",
    "#onlyfiles"
   ]
  },
  {
   "cell_type": "code",
   "execution_count": 86,
   "metadata": {},
   "outputs": [
    {
     "data": {
      "text/plain": [
       "41"
      ]
     },
     "execution_count": 86,
     "metadata": {},
     "output_type": "execute_result"
    }
   ],
   "source": [
    "#create dataframe of list of files\n",
    "dfs=[]\n",
    "for file in onlyfiles: \n",
    "    try:\n",
    "        dfs.append(pd.read_csv(mypath+\"/\"+file))\n",
    "    except: \n",
    "        print(file)\n",
    "len(dfs)"
   ]
  },
  {
   "cell_type": "code",
   "execution_count": 87,
   "metadata": {},
   "outputs": [],
   "source": [
    "# name dfs[0]\n",
    "df_initial=dfs[0]\n",
    "merge_df=df_initial\n",
    "#merge_df"
   ]
  },
  {
   "cell_type": "code",
   "execution_count": 88,
   "metadata": {},
   "outputs": [
    {
     "name": "stdout",
     "output_type": "stream",
     "text": [
      "(539, 19)\n",
      "(19823, 19)\n"
     ]
    }
   ],
   "source": [
    "#\n",
    "print(merge_df.shape)\n",
    "for df in dfs[1:]: \n",
    "    merge_df = pd.concat([merge_df, df])\n",
    "print(merge_df.shape)"
   ]
  },
  {
   "cell_type": "code",
   "execution_count": 89,
   "metadata": {},
   "outputs": [
    {
     "data": {
      "text/html": [
       "<div>\n",
       "<style scoped>\n",
       "    .dataframe tbody tr th:only-of-type {\n",
       "        vertical-align: middle;\n",
       "    }\n",
       "\n",
       "    .dataframe tbody tr th {\n",
       "        vertical-align: top;\n",
       "    }\n",
       "\n",
       "    .dataframe thead th {\n",
       "        text-align: right;\n",
       "    }\n",
       "</style>\n",
       "<table border=\"1\" class=\"dataframe\">\n",
       "  <thead>\n",
       "    <tr style=\"text-align: right;\">\n",
       "      <th></th>\n",
       "      <th>CBSA</th>\n",
       "      <th>CBSA Code</th>\n",
       "      <th>Year</th>\n",
       "      <th>Days with AQI</th>\n",
       "      <th>Good Days</th>\n",
       "      <th>Moderate Days</th>\n",
       "      <th>Unhealthy for Sensitive Groups Days</th>\n",
       "      <th>Unhealthy Days</th>\n",
       "      <th>Very Unhealthy Days</th>\n",
       "      <th>Hazardous Days</th>\n",
       "      <th>Max AQI</th>\n",
       "      <th>90th Percentile AQI</th>\n",
       "      <th>Median AQI</th>\n",
       "      <th>Days CO</th>\n",
       "      <th>Days NO2</th>\n",
       "      <th>Days Ozone</th>\n",
       "      <th>Days SO2</th>\n",
       "      <th>Days PM2.5</th>\n",
       "      <th>Days PM10</th>\n",
       "    </tr>\n",
       "  </thead>\n",
       "  <tbody>\n",
       "    <tr>\n",
       "      <th>0</th>\n",
       "      <td>Adrian, MI</td>\n",
       "      <td>10300</td>\n",
       "      <td>1999</td>\n",
       "      <td>183</td>\n",
       "      <td>116</td>\n",
       "      <td>49</td>\n",
       "      <td>17</td>\n",
       "      <td>1</td>\n",
       "      <td>0</td>\n",
       "      <td>0</td>\n",
       "      <td>151</td>\n",
       "      <td>97</td>\n",
       "      <td>44</td>\n",
       "      <td>0</td>\n",
       "      <td>0</td>\n",
       "      <td>183</td>\n",
       "      <td>0</td>\n",
       "      <td>0</td>\n",
       "      <td>0</td>\n",
       "    </tr>\n",
       "    <tr>\n",
       "      <th>1</th>\n",
       "      <td>Aguadilla-Isabela, PR</td>\n",
       "      <td>10380</td>\n",
       "      <td>1999</td>\n",
       "      <td>55</td>\n",
       "      <td>50</td>\n",
       "      <td>5</td>\n",
       "      <td>0</td>\n",
       "      <td>0</td>\n",
       "      <td>0</td>\n",
       "      <td>0</td>\n",
       "      <td>64</td>\n",
       "      <td>49</td>\n",
       "      <td>24</td>\n",
       "      <td>0</td>\n",
       "      <td>0</td>\n",
       "      <td>0</td>\n",
       "      <td>0</td>\n",
       "      <td>55</td>\n",
       "      <td>0</td>\n",
       "    </tr>\n",
       "    <tr>\n",
       "      <th>2</th>\n",
       "      <td>Akron, OH</td>\n",
       "      <td>10420</td>\n",
       "      <td>1999</td>\n",
       "      <td>365</td>\n",
       "      <td>72</td>\n",
       "      <td>191</td>\n",
       "      <td>85</td>\n",
       "      <td>16</td>\n",
       "      <td>1</td>\n",
       "      <td>0</td>\n",
       "      <td>208</td>\n",
       "      <td>131</td>\n",
       "      <td>74</td>\n",
       "      <td>0</td>\n",
       "      <td>0</td>\n",
       "      <td>87</td>\n",
       "      <td>115</td>\n",
       "      <td>162</td>\n",
       "      <td>1</td>\n",
       "    </tr>\n",
       "    <tr>\n",
       "      <th>3</th>\n",
       "      <td>Alamogordo, NM</td>\n",
       "      <td>10460</td>\n",
       "      <td>1999</td>\n",
       "      <td>52</td>\n",
       "      <td>51</td>\n",
       "      <td>0</td>\n",
       "      <td>0</td>\n",
       "      <td>1</td>\n",
       "      <td>0</td>\n",
       "      <td>0</td>\n",
       "      <td>175</td>\n",
       "      <td>29</td>\n",
       "      <td>13</td>\n",
       "      <td>0</td>\n",
       "      <td>0</td>\n",
       "      <td>0</td>\n",
       "      <td>0</td>\n",
       "      <td>0</td>\n",
       "      <td>52</td>\n",
       "    </tr>\n",
       "    <tr>\n",
       "      <th>4</th>\n",
       "      <td>Albany, GA</td>\n",
       "      <td>10500</td>\n",
       "      <td>1999</td>\n",
       "      <td>104</td>\n",
       "      <td>35</td>\n",
       "      <td>66</td>\n",
       "      <td>3</td>\n",
       "      <td>0</td>\n",
       "      <td>0</td>\n",
       "      <td>0</td>\n",
       "      <td>111</td>\n",
       "      <td>91</td>\n",
       "      <td>59</td>\n",
       "      <td>0</td>\n",
       "      <td>0</td>\n",
       "      <td>0</td>\n",
       "      <td>0</td>\n",
       "      <td>90</td>\n",
       "      <td>14</td>\n",
       "    </tr>\n",
       "    <tr>\n",
       "      <th>...</th>\n",
       "      <td>...</td>\n",
       "      <td>...</td>\n",
       "      <td>...</td>\n",
       "      <td>...</td>\n",
       "      <td>...</td>\n",
       "      <td>...</td>\n",
       "      <td>...</td>\n",
       "      <td>...</td>\n",
       "      <td>...</td>\n",
       "      <td>...</td>\n",
       "      <td>...</td>\n",
       "      <td>...</td>\n",
       "      <td>...</td>\n",
       "      <td>...</td>\n",
       "      <td>...</td>\n",
       "      <td>...</td>\n",
       "      <td>...</td>\n",
       "      <td>...</td>\n",
       "      <td>...</td>\n",
       "    </tr>\n",
       "    <tr>\n",
       "      <th>322</th>\n",
       "      <td>Yakima, WA</td>\n",
       "      <td>49420</td>\n",
       "      <td>1983</td>\n",
       "      <td>225</td>\n",
       "      <td>142</td>\n",
       "      <td>81</td>\n",
       "      <td>2</td>\n",
       "      <td>0</td>\n",
       "      <td>0</td>\n",
       "      <td>0</td>\n",
       "      <td>118</td>\n",
       "      <td>79</td>\n",
       "      <td>41</td>\n",
       "      <td>225</td>\n",
       "      <td>0</td>\n",
       "      <td>0</td>\n",
       "      <td>0</td>\n",
       "      <td>0</td>\n",
       "      <td>0</td>\n",
       "    </tr>\n",
       "    <tr>\n",
       "      <th>323</th>\n",
       "      <td>York-Hanover, PA</td>\n",
       "      <td>49620</td>\n",
       "      <td>1983</td>\n",
       "      <td>359</td>\n",
       "      <td>199</td>\n",
       "      <td>103</td>\n",
       "      <td>29</td>\n",
       "      <td>23</td>\n",
       "      <td>5</td>\n",
       "      <td>0</td>\n",
       "      <td>217</td>\n",
       "      <td>129</td>\n",
       "      <td>49</td>\n",
       "      <td>0</td>\n",
       "      <td>184</td>\n",
       "      <td>121</td>\n",
       "      <td>54</td>\n",
       "      <td>0</td>\n",
       "      <td>0</td>\n",
       "    </tr>\n",
       "    <tr>\n",
       "      <th>324</th>\n",
       "      <td>Youngstown-Warren-Boardman, OH-PA</td>\n",
       "      <td>49660</td>\n",
       "      <td>1983</td>\n",
       "      <td>365</td>\n",
       "      <td>137</td>\n",
       "      <td>156</td>\n",
       "      <td>51</td>\n",
       "      <td>19</td>\n",
       "      <td>2</td>\n",
       "      <td>0</td>\n",
       "      <td>218</td>\n",
       "      <td>123</td>\n",
       "      <td>62</td>\n",
       "      <td>21</td>\n",
       "      <td>71</td>\n",
       "      <td>99</td>\n",
       "      <td>174</td>\n",
       "      <td>0</td>\n",
       "      <td>0</td>\n",
       "    </tr>\n",
       "    <tr>\n",
       "      <th>325</th>\n",
       "      <td>Yuba City, CA</td>\n",
       "      <td>49700</td>\n",
       "      <td>1983</td>\n",
       "      <td>184</td>\n",
       "      <td>87</td>\n",
       "      <td>66</td>\n",
       "      <td>26</td>\n",
       "      <td>4</td>\n",
       "      <td>1</td>\n",
       "      <td>0</td>\n",
       "      <td>203</td>\n",
       "      <td>108</td>\n",
       "      <td>58</td>\n",
       "      <td>0</td>\n",
       "      <td>0</td>\n",
       "      <td>184</td>\n",
       "      <td>0</td>\n",
       "      <td>0</td>\n",
       "      <td>0</td>\n",
       "    </tr>\n",
       "    <tr>\n",
       "      <th>326</th>\n",
       "      <td>Yuma, AZ</td>\n",
       "      <td>49740</td>\n",
       "      <td>1983</td>\n",
       "      <td>316</td>\n",
       "      <td>267</td>\n",
       "      <td>36</td>\n",
       "      <td>11</td>\n",
       "      <td>2</td>\n",
       "      <td>0</td>\n",
       "      <td>0</td>\n",
       "      <td>169</td>\n",
       "      <td>67</td>\n",
       "      <td>3</td>\n",
       "      <td>181</td>\n",
       "      <td>0</td>\n",
       "      <td>135</td>\n",
       "      <td>0</td>\n",
       "      <td>0</td>\n",
       "      <td>0</td>\n",
       "    </tr>\n",
       "  </tbody>\n",
       "</table>\n",
       "<p>19823 rows × 19 columns</p>\n",
       "</div>"
      ],
      "text/plain": [
       "                                  CBSA  CBSA Code  Year  Days with AQI  \\\n",
       "0                           Adrian, MI      10300  1999            183   \n",
       "1                Aguadilla-Isabela, PR      10380  1999             55   \n",
       "2                            Akron, OH      10420  1999            365   \n",
       "3                       Alamogordo, NM      10460  1999             52   \n",
       "4                           Albany, GA      10500  1999            104   \n",
       "..                                 ...        ...   ...            ...   \n",
       "322                         Yakima, WA      49420  1983            225   \n",
       "323                   York-Hanover, PA      49620  1983            359   \n",
       "324  Youngstown-Warren-Boardman, OH-PA      49660  1983            365   \n",
       "325                      Yuba City, CA      49700  1983            184   \n",
       "326                           Yuma, AZ      49740  1983            316   \n",
       "\n",
       "     Good Days  Moderate Days  Unhealthy for Sensitive Groups Days  \\\n",
       "0          116             49                                   17   \n",
       "1           50              5                                    0   \n",
       "2           72            191                                   85   \n",
       "3           51              0                                    0   \n",
       "4           35             66                                    3   \n",
       "..         ...            ...                                  ...   \n",
       "322        142             81                                    2   \n",
       "323        199            103                                   29   \n",
       "324        137            156                                   51   \n",
       "325         87             66                                   26   \n",
       "326        267             36                                   11   \n",
       "\n",
       "     Unhealthy Days  Very Unhealthy Days  Hazardous Days  Max AQI  \\\n",
       "0                 1                    0               0      151   \n",
       "1                 0                    0               0       64   \n",
       "2                16                    1               0      208   \n",
       "3                 1                    0               0      175   \n",
       "4                 0                    0               0      111   \n",
       "..              ...                  ...             ...      ...   \n",
       "322               0                    0               0      118   \n",
       "323              23                    5               0      217   \n",
       "324              19                    2               0      218   \n",
       "325               4                    1               0      203   \n",
       "326               2                    0               0      169   \n",
       "\n",
       "     90th Percentile AQI  Median AQI  Days CO  Days NO2  Days Ozone  Days SO2  \\\n",
       "0                     97          44        0         0         183         0   \n",
       "1                     49          24        0         0           0         0   \n",
       "2                    131          74        0         0          87       115   \n",
       "3                     29          13        0         0           0         0   \n",
       "4                     91          59        0         0           0         0   \n",
       "..                   ...         ...      ...       ...         ...       ...   \n",
       "322                   79          41      225         0           0         0   \n",
       "323                  129          49        0       184         121        54   \n",
       "324                  123          62       21        71          99       174   \n",
       "325                  108          58        0         0         184         0   \n",
       "326                   67           3      181         0         135         0   \n",
       "\n",
       "     Days PM2.5  Days PM10  \n",
       "0             0          0  \n",
       "1            55          0  \n",
       "2           162          1  \n",
       "3             0         52  \n",
       "4            90         14  \n",
       "..          ...        ...  \n",
       "322           0          0  \n",
       "323           0          0  \n",
       "324           0          0  \n",
       "325           0          0  \n",
       "326           0          0  \n",
       "\n",
       "[19823 rows x 19 columns]"
      ]
     },
     "execution_count": 89,
     "metadata": {},
     "output_type": "execute_result"
    }
   ],
   "source": [
    "merge_df\n",
    "#note: SO2 =sulfur dioxide, CO=Carbon monoxide, NO2=Nitrogen Dioxide, Ozone=O3, \n",
    "#PM2.5=particulate matter smaller than 2.5micrometes, PM10=particulate mattersmaller than 10 micrometers\n",
    "#https://www.epa.gov/outdoor-air-quality-data/about-air-data-reports"
   ]
  },
  {
   "cell_type": "code",
   "execution_count": 90,
   "metadata": {},
   "outputs": [],
   "source": [
    "#number of rows for each year\n",
    "merge_year_count=merge_df[\"Year\"].value_counts().sort_index()"
   ]
  },
  {
   "cell_type": "code",
   "execution_count": 91,
   "metadata": {},
   "outputs": [
    {
     "data": {
      "text/plain": [
       "75"
      ]
     },
     "execution_count": 91,
     "metadata": {},
     "output_type": "execute_result"
    }
   ],
   "source": [
    "file=\"../resources/raw/cities_list.csv\"\n",
    "cities=pd.read_csv(file) \n",
    "#drop duplicates\n",
    "cities=cities.drop_duplicates(subset=['City'])\n",
    "#make cities df into a list\n",
    "cities_list=cities[\"City\"].tolist()\n",
    "len(cities_list)"
   ]
  },
  {
   "cell_type": "code",
   "execution_count": 92,
   "metadata": {},
   "outputs": [],
   "source": [
    "#split CBSA into City, ST\n",
    "merge_df[['City','ST']]=merge_df['CBSA'].str.split(',',expand=True)\n",
    "#merge_df"
   ]
  },
  {
   "cell_type": "code",
   "execution_count": 93,
   "metadata": {},
   "outputs": [],
   "source": [
    "city_merge=merge_df[merge_df['City'].isin(cities_list)]"
   ]
  },
  {
   "cell_type": "code",
   "execution_count": 94,
   "metadata": {},
   "outputs": [],
   "source": [
    "#year count \n",
    "city_merge_yr_count=city_merge[\"Year\"].value_counts().sort_index()"
   ]
  },
  {
   "cell_type": "code",
   "execution_count": 95,
   "metadata": {},
   "outputs": [],
   "source": [
    "#sort by year\n",
    "city_merge=city_merge.sort_values(by=['Year'])\n",
    "#city_merge"
   ]
  },
  {
   "cell_type": "code",
   "execution_count": 223,
   "metadata": {},
   "outputs": [],
   "source": [
    "#groupby YEAR to get averages\n",
    "#avg count of days in good, mod, unhealthy, very unhealhy and hazardous\n",
    "days_avg_byyear=city_merge.groupby(\"Year\")[[\"Good Days\",\"Moderate Days\",\"Unhealthy Days\",\n",
    "                                        \"Very Unhealthy Days\",\"Hazardous Days\"]].mean()\n",
    "#groupby year to get avg max AQI\n",
    "aqi_byyear=city_merge.groupby(\"Year\")[[\"Max AQI\", \"90th Percentile AQI\", \"Median AQI\"]].mean()\n",
    "#avg count of days air pollutants year\n",
    "air_pol_avg_yr=city_merge.groupby(\"Year\")[[\"Days Ozone\", \"Days CO\", \"Days NO2\", \"Days SO2\"]].mean()\n",
    "#avg count of days air particulate matter \n",
    "air_pm=city_merge.groupby(\"Year\")[[\"Days PM2.5\",\"Days PM10\"]].mean()\n",
    "#drop Very unhealthy days and hazardous days\n",
    "days_avg_byyear=days_avg_byyear[[\"Good Days\",\"Moderate Days\", \"Unhealthy Days\"]]\n",
    "# Rename colums to averages \n",
    "days_avg_byyear=days_avg_byyear.rename(columns={\"Good Days\": \"Average Good Days\", \"Moderate Days\": \"Average Moderate Days\", \"Unhealthy Days\":\"Average Unhealthy Days\"})\n",
    "#drop 2020\n",
    "days_avg_byyear=pd.DataFrame(days_avg_byyear)\n",
    "days_avg_byyear=days_avg_byyear.drop(2020)\n"
   ]
  },
  {
   "cell_type": "code",
   "execution_count": 331,
   "metadata": {},
   "outputs": [
    {
     "data": {
      "image/png": "[encoded data removed]",
      "text/plain": [
       "<Figure size 432x288 with 1 Axes>"
      ]
     },
     "metadata": {
      "needs_background": "light"
     },
     "output_type": "display_data"
    }
   ],
   "source": [
    "x=days_avg_byyear.index\n",
    "avg_good=plt.plot(x, days_avg_byyear[\"Average Good Days\"], color='green')\n",
    "avg_mod=plt.plot(x, days_avg_byyear[\"Average Moderate Days\"], color='orange')\n",
    "avg_unhe=plt.plot(x, days_avg_byyear[\"Average Unhealthy Days\"], color='red')\n",
    "plt.legend(['Average Good Days', 'Average Moderate Days', 'Average Unhealthy Days'], loc=\"best\")\n",
    "plt.title('Average Number of Days with Good, Moderate, and Unhealthy Air per Year')\n",
    "plt.show()\n",
    "fig.savefig(graph_path + 'avg_days_GMU.png')"
   ]
  },
  {
   "cell_type": "code",
   "execution_count": 330,
   "metadata": {},
   "outputs": [],
   "source": [
    "graph_path=(\"../Graphs/Kat_graphs/\")"
   ]
  },
  {
   "cell_type": "code",
   "execution_count": 251,
   "metadata": {},
   "outputs": [],
   "source": [
    "#https://www.epa.gov/pm-pollution/particulate-matter-pm-basics\n",
    "#drop years before2000\n",
    "air_pm=pd.DataFrame(air_pm)\n",
    "x=1980\n",
    "y=1999\n",
    "air_pm_before2000=air_pm.drop(air_pm.loc[x:y].index)\n",
    "#drop 2020\n",
    "air_pm_before2000=air_pm_before2000.drop(2020)"
   ]
  },
  {
   "cell_type": "code",
   "execution_count": 333,
   "metadata": {},
   "outputs": [
    {
     "data": {
      "image/png": "[encoded data removed]",
      "text/plain": [
       "<Figure size 720x432 with 1 Axes>"
      ]
     },
     "metadata": {
      "needs_background": "light"
     },
     "output_type": "display_data"
    }
   ],
   "source": [
    "from matplotlib.ticker import (MultipleLocator, FormatStrFormatter,\n",
    "                               AutoMinorLocator)\n",
    "#plot \n",
    "fig, ax = plt.subplots(figsize = (10,6))\n",
    "ax = plt.plot(air_pm_before2000.index , air_pm_before2000[\"Days PM10\"])\n",
    "plt.xlabel(\"Year\")\n",
    "plt.ylabel(\"Average Days with PM10 (μm)\")\n",
    "ticks=plt.xticks([2000,2002,2004,2006,2008,2010,2012,2014,2016,2018,2020])\n",
    "plt.title('Average Number of Days with PM10 per Year ')\n",
    "plt.show()\n",
    "fig.savefig(graph_path + 'avg_days_PM10.png')"
   ]
  },
  {
   "cell_type": "code",
   "execution_count": 148,
   "metadata": {},
   "outputs": [],
   "source": [
    "#fig, ax = plt.subplots(figsize = (10,6))\n",
    "#ax = plt.plot(air_pm_before2000.index, air_pm_before2000[\"Days PM2.5\"])"
   ]
  },
  {
   "cell_type": "code",
   "execution_count": 335,
   "metadata": {},
   "outputs": [
    {
     "data": {
      "image/png": "[encoded data removed]",
      "text/plain": [
       "<Figure size 720x432 with 1 Axes>"
      ]
     },
     "metadata": {
      "needs_background": "light"
     },
     "output_type": "display_data"
    }
   ],
   "source": [
    "#ditch 2020 if doing trend line, leave in for visual\n",
    "#create line plot for AVG MAX AQI by YEAR\n",
    "fig, ax = plt.subplots(figsize = (10,6))\n",
    "ax = plt.plot(aqi_byyear.index, aqi_byyear[\"Max AQI\"])\n",
    "#https://www.airnow.gov/aqi/aqi-basics/\n",
    "plt.xlabel(\"Year\")\n",
    "plt.ylabel(\"Average Max AQI \")\n",
    "plt.title('Avgerage Max AQI per Year')\n",
    "plt.show()\n",
    "fig.savefig(graph_path + 'avg_AQI.png')"
   ]
  },
  {
   "cell_type": "code",
   "execution_count": 365,
   "metadata": {},
   "outputs": [
    {
     "data": {
      "text/html": [
       "<div>\n",
       "<style scoped>\n",
       "    .dataframe tbody tr th:only-of-type {\n",
       "        vertical-align: middle;\n",
       "    }\n",
       "\n",
       "    .dataframe tbody tr th {\n",
       "        vertical-align: top;\n",
       "    }\n",
       "\n",
       "    .dataframe thead th {\n",
       "        text-align: right;\n",
       "    }\n",
       "</style>\n",
       "<table border=\"1\" class=\"dataframe\">\n",
       "  <thead>\n",
       "    <tr style=\"text-align: right;\">\n",
       "      <th></th>\n",
       "      <th>Year</th>\n",
       "      <th>City, ST</th>\n",
       "      <th>Average Good Days</th>\n",
       "      <th>Average Moderate Days</th>\n",
       "      <th>Unhealthy Days</th>\n",
       "    </tr>\n",
       "  </thead>\n",
       "  <tbody>\n",
       "    <tr>\n",
       "      <th>0</th>\n",
       "      <td>1980</td>\n",
       "      <td>Albuquerque, NM</td>\n",
       "      <td>160</td>\n",
       "      <td>155</td>\n",
       "      <td>12</td>\n",
       "    </tr>\n",
       "    <tr>\n",
       "      <th>1</th>\n",
       "      <td>1980</td>\n",
       "      <td>Baton Rouge, LA</td>\n",
       "      <td>205</td>\n",
       "      <td>74</td>\n",
       "      <td>13</td>\n",
       "    </tr>\n",
       "    <tr>\n",
       "      <th>2</th>\n",
       "      <td>1980</td>\n",
       "      <td>Charleston, WV</td>\n",
       "      <td>171</td>\n",
       "      <td>140</td>\n",
       "      <td>1</td>\n",
       "    </tr>\n",
       "    <tr>\n",
       "      <th>3</th>\n",
       "      <td>1980</td>\n",
       "      <td>Columbia, SC</td>\n",
       "      <td>158</td>\n",
       "      <td>124</td>\n",
       "      <td>16</td>\n",
       "    </tr>\n",
       "    <tr>\n",
       "      <th>4</th>\n",
       "      <td>1980</td>\n",
       "      <td>Columbus, GA-AL</td>\n",
       "      <td>107</td>\n",
       "      <td>30</td>\n",
       "      <td>2</td>\n",
       "    </tr>\n",
       "    <tr>\n",
       "      <th>...</th>\n",
       "      <td>...</td>\n",
       "      <td>...</td>\n",
       "      <td>...</td>\n",
       "      <td>...</td>\n",
       "      <td>...</td>\n",
       "    </tr>\n",
       "    <tr>\n",
       "      <th>1190</th>\n",
       "      <td>2019</td>\n",
       "      <td>St. Louis, MO-IL</td>\n",
       "      <td>134</td>\n",
       "      <td>221</td>\n",
       "      <td>2</td>\n",
       "    </tr>\n",
       "    <tr>\n",
       "      <th>1191</th>\n",
       "      <td>2019</td>\n",
       "      <td>Syracuse, NY</td>\n",
       "      <td>337</td>\n",
       "      <td>28</td>\n",
       "      <td>0</td>\n",
       "    </tr>\n",
       "    <tr>\n",
       "      <th>1192</th>\n",
       "      <td>2019</td>\n",
       "      <td>Tulsa, OK</td>\n",
       "      <td>249</td>\n",
       "      <td>114</td>\n",
       "      <td>0</td>\n",
       "    </tr>\n",
       "    <tr>\n",
       "      <th>1193</th>\n",
       "      <td>2019</td>\n",
       "      <td>Washington, IN</td>\n",
       "      <td>350</td>\n",
       "      <td>0</td>\n",
       "      <td>0</td>\n",
       "    </tr>\n",
       "    <tr>\n",
       "      <th>1194</th>\n",
       "      <td>2019</td>\n",
       "      <td>Washington, NC</td>\n",
       "      <td>352</td>\n",
       "      <td>0</td>\n",
       "      <td>0</td>\n",
       "    </tr>\n",
       "  </tbody>\n",
       "</table>\n",
       "<p>1195 rows × 5 columns</p>\n",
       "</div>"
      ],
      "text/plain": [
       "      Year          City, ST  Average Good Days  Average Moderate Days  \\\n",
       "0     1980   Albuquerque, NM                160                    155   \n",
       "1     1980   Baton Rouge, LA                205                     74   \n",
       "2     1980    Charleston, WV                171                    140   \n",
       "3     1980      Columbia, SC                158                    124   \n",
       "4     1980   Columbus, GA-AL                107                     30   \n",
       "...    ...               ...                ...                    ...   \n",
       "1190  2019  St. Louis, MO-IL                134                    221   \n",
       "1191  2019      Syracuse, NY                337                     28   \n",
       "1192  2019         Tulsa, OK                249                    114   \n",
       "1193  2019    Washington, IN                350                      0   \n",
       "1194  2019    Washington, NC                352                      0   \n",
       "\n",
       "      Unhealthy Days  \n",
       "0                 12  \n",
       "1                 13  \n",
       "2                  1  \n",
       "3                 16  \n",
       "4                  2  \n",
       "...              ...  \n",
       "1190               2  \n",
       "1191               0  \n",
       "1192               0  \n",
       "1193               0  \n",
       "1194               0  \n",
       "\n",
       "[1195 rows x 5 columns]"
      ]
     },
     "execution_count": 365,
     "metadata": {},
     "output_type": "execute_result"
    }
   ],
   "source": [
    "#Group by Year AND City,ST  \n",
    "\n",
    "#groupby year to get averages of days \n",
    "days_avg_yr_city=city_merge.groupby(['Year','City','ST'], as_index=False)[[\"Good Days\",\"Moderate Days\",\"Unhealthy Days\",\n",
    "                                        \"Very Unhealthy Days\",\"Hazardous Days\"]].mean()\n",
    "#groupby year to get avg max AQI\n",
    "aqi_yr_city=city_merge.groupby(['Year','City','ST'], as_index=False)[[\"Max AQI\", \"90th Percentile AQI\", \"Median AQI\"]].mean()\n",
    "#avg count of days air pollutants year\n",
    "pol_yr_city=city_merge.groupby(['Year','City','ST'], as_index=False)[[\"Days Ozone\", \"Days CO\", \"Days NO2\", \"Days SO2\"]].mean()\n",
    "#avg count of days air particulate matter \n",
    "pm_yr_city=city_merge.groupby(['Year','City','ST'], as_index=False)[[\"Days PM2.5\",\"Days PM10\"]].mean()\n",
    "days_avg_yr_city[\"City, ST\"] = days_avg_yr_city[['City', 'ST']].agg(','.join, axis=1)\n",
    "days_avg_yr_city=days_avg_yr_city[[\"Year\",\"City, ST\", \"Good Days\", \"Moderate Days\", \"Unhealthy Days\"]]\n",
    "#rename average days by year and city,ST\n",
    "days_avg_yr_city=days_avg_yr_city.rename(columns={\"Good Days\": \"Average Good Days\", \"Moderate Days\": \"Average Moderate Days\", \"Unheathy Days\":\"Average Unhealthy Days\"})\n",
    "days_avg_yr_city=pd.DataFrame(days_avg_yr_city)\n",
    "days_avg_yr_city_drop2020= days_avg_yr_city[days_avg_yr_city.Year!= 2020]\n",
    "days_avg_yr_city_drop2020\n"
   ]
  },
  {
   "cell_type": "code",
   "execution_count": 367,
   "metadata": {},
   "outputs": [
    {
     "data": {
      "text/plain": [
       "<BarContainer object of 1195 artists>"
      ]
     },
     "execution_count": 367,
     "metadata": {},
     "output_type": "execute_result"
    },
    {
     "data": {
      "image/png": "[encoded data removed]",
      "text/plain": [
       "<Figure size 432x288 with 1 Axes>"
      ]
     },
     "metadata": {
      "needs_background": "light"
     },
     "output_type": "display_data"
    }
   ],
   "source": [
    "#plot Grouped Vertical Bar Chart \n",
    "#x=days_avg_yr_city[\"Year\"]\n",
    "#y will be 5 most improved citiy,st average days\n",
    "x=days_avg_yr_city_drop2020[\"Year\"]\n",
    "y=days_avg_yr_city_drop2020[\"Average Good Days\"]\n",
    "#days_avg_yr_city.groupby(\"Year\")[\"City, ST\"]\n",
    "plt.bar(x,y)"
   ]
  },
  {
   "cell_type": "code",
   "execution_count": null,
   "metadata": {},
   "outputs": [],
   "source": [
    "#plot Grouped Vertical Bar Chart \n",
    "#x=days_avg_yr_city[\"Year\"]\n",
    "#y will be 5 least improved citiy,st average days"
   ]
  }
 ],
 "metadata": {
  "kernelspec": {
   "display_name": "Python [conda env:BootCamp]",
   "language": "python",
   "name": "conda-env-BootCamp-py"
  },
  "language_info": {
   "codemirror_mode": {
    "name": "ipython",
    "version": 3
   },
   "file_extension": ".py",
   "mimetype": "text/x-python",
   "name": "python",
   "nbconvert_exporter": "python",
   "pygments_lexer": "ipython3",
   "version": "3.8.3"
  }
 },
 "nbformat": 4,
 "nbformat_minor": 4
}
